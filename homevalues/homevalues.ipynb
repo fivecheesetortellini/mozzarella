version https://git-lfs.github.com/spec/v1
oid sha256:c4cb44e837b6e94e122abac488fe0e2b91f60d14aa5403c7021634e5fc864dce
size 6356870
