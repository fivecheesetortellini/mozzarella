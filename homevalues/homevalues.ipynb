version https://git-lfs.github.com/spec/v1
oid sha256:6c3031d31b652e4a669d0892aa8c84503acd028dadf27e05701bae4d6d9f16e3
size 291659
