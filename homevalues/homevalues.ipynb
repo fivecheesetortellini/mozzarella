version https://git-lfs.github.com/spec/v1
oid sha256:b7da9e9344a77069d0bc704fba929b591cf87d613bcadc37cf7c538e973ade39
size 5323430
