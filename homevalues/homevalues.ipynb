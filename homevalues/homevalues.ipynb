version https://git-lfs.github.com/spec/v1
oid sha256:aa4a340ec138bd8ed2701f1dce74e56194dada50e8e7756df0f8980753b65c6c
size 17995
