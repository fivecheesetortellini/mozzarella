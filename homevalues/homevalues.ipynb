version https://git-lfs.github.com/spec/v1
oid sha256:3fa1c1c10999b3818e3ab76703756ef5995b352cdda8444ce7411c43ca49ec84
size 5334004
